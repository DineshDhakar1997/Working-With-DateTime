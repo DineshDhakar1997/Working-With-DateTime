{
  "nbformat": 4,
  "nbformat_minor": 0,
  "metadata": {
    "colab": {
      "name": "working with date time.ipynb",
      "provenance": []
    },
    "kernelspec": {
      "name": "python3",
      "display_name": "Python 3"
    }
  },
  "cells": [
    {
      "cell_type": "markdown",
      "metadata": {
        "id": "QSTNR15AWKTC",
        "colab_type": "text"
      },
      "source": [
        "**Q1.**\n",
        "Write a function in python that inputs a dataframe and identify which columns have date in them. Using these date columns make new columns which are difference between these columns taking 2 at a time. (for instance if there is date1, date2, date3 columns, output should be like date1-date2, date2-date3, date1-date3). For this problem only, print out data in the colab. \n"
      ]
    },
    {
      "cell_type": "markdown",
      "metadata": {
        "id": "RKDF-KYiWicz",
        "colab_type": "text"
      },
      "source": [
        "Useful Libraries"
      ]
    },
    {
      "cell_type": "code",
      "metadata": {
        "id": "YQwBkZPqWiEU",
        "colab_type": "code",
        "colab": {}
      },
      "source": [
        "import pandas as pd\n",
        "import numpy as np"
      ],
      "execution_count": null,
      "outputs": []
    },
    {
      "cell_type": "markdown",
      "metadata": {
        "id": "GTP8BXXhYYAV",
        "colab_type": "text"
      },
      "source": [
        "**1.**Making a dummy dataset by myself.\n",
        "There are different alias for freq in date_range, some are\\\n",
        "B         business day frequency   \n",
        "D         calendar day frequency  \n",
        "W         weekly frequency  \n",
        "M         month end frequency  "
      ]
    },
    {
      "cell_type": "code",
      "metadata": {
        "id": "EBgLw2BKVuO2",
        "colab_type": "code",
        "colab": {
          "base_uri": "https://localhost:8080/",
          "height": 235
        },
        "outputId": "b8348d4a-4693-416f-b7cb-d7b38d473173"
      },
      "source": [
        "date_1=pd.Series(pd.date_range('2020-1-1',periods=6,freq='D'))\n",
        "date_2=pd.Series(pd.date_range('2020-2-1',periods=6,freq='M'))\n",
        "date_3=pd.Series(pd.date_range('2020-3-1',periods=6,freq='A'))\n",
        "df=pd.DataFrame({'date1':date_1,'date2':date_2,'date3':date_3,'Val' : np.random.randn(len(date_1))})\n",
        "df"
      ],
      "execution_count": null,
      "outputs": [
        {
          "output_type": "execute_result",
          "data": {
            "text/html": [
              "<div>\n",
              "<style scoped>\n",
              "    .dataframe tbody tr th:only-of-type {\n",
              "        vertical-align: middle;\n",
              "    }\n",
              "\n",
              "    .dataframe tbody tr th {\n",
              "        vertical-align: top;\n",
              "    }\n",
              "\n",
              "    .dataframe thead th {\n",
              "        text-align: right;\n",
              "    }\n",
              "</style>\n",
              "<table border=\"1\" class=\"dataframe\">\n",
              "  <thead>\n",
              "    <tr style=\"text-align: right;\">\n",
              "      <th></th>\n",
              "      <th>date1</th>\n",
              "      <th>date2</th>\n",
              "      <th>date3</th>\n",
              "      <th>Val</th>\n",
              "    </tr>\n",
              "  </thead>\n",
              "  <tbody>\n",
              "    <tr>\n",
              "      <th>0</th>\n",
              "      <td>2020-01-01</td>\n",
              "      <td>2020-02-29</td>\n",
              "      <td>2020-12-31</td>\n",
              "      <td>0.722365</td>\n",
              "    </tr>\n",
              "    <tr>\n",
              "      <th>1</th>\n",
              "      <td>2020-01-02</td>\n",
              "      <td>2020-03-31</td>\n",
              "      <td>2021-12-31</td>\n",
              "      <td>-0.219948</td>\n",
              "    </tr>\n",
              "    <tr>\n",
              "      <th>2</th>\n",
              "      <td>2020-01-03</td>\n",
              "      <td>2020-04-30</td>\n",
              "      <td>2022-12-31</td>\n",
              "      <td>-1.624080</td>\n",
              "    </tr>\n",
              "    <tr>\n",
              "      <th>3</th>\n",
              "      <td>2020-01-04</td>\n",
              "      <td>2020-05-31</td>\n",
              "      <td>2023-12-31</td>\n",
              "      <td>-0.927171</td>\n",
              "    </tr>\n",
              "    <tr>\n",
              "      <th>4</th>\n",
              "      <td>2020-01-05</td>\n",
              "      <td>2020-06-30</td>\n",
              "      <td>2024-12-31</td>\n",
              "      <td>-1.010072</td>\n",
              "    </tr>\n",
              "    <tr>\n",
              "      <th>5</th>\n",
              "      <td>2020-01-06</td>\n",
              "      <td>2020-07-31</td>\n",
              "      <td>2025-12-31</td>\n",
              "      <td>0.586287</td>\n",
              "    </tr>\n",
              "  </tbody>\n",
              "</table>\n",
              "</div>"
            ],
            "text/plain": [
              "       date1      date2      date3       Val\n",
              "0 2020-01-01 2020-02-29 2020-12-31  0.722365\n",
              "1 2020-01-02 2020-03-31 2021-12-31 -0.219948\n",
              "2 2020-01-03 2020-04-30 2022-12-31 -1.624080\n",
              "3 2020-01-04 2020-05-31 2023-12-31 -0.927171\n",
              "4 2020-01-05 2020-06-30 2024-12-31 -1.010072\n",
              "5 2020-01-06 2020-07-31 2025-12-31  0.586287"
            ]
          },
          "metadata": {
            "tags": []
          },
          "execution_count": 4
        }
      ]
    },
    {
      "cell_type": "code",
      "metadata": {
        "id": "Hg3NgNyCN0Yd",
        "colab_type": "code",
        "colab": {}
      },
      "source": [
        ""
      ],
      "execution_count": null,
      "outputs": []
    },
    {
      "cell_type": "markdown",
      "metadata": {
        "id": "Xwr8qYYdZm9x",
        "colab_type": "text"
      },
      "source": [
        "Now,as per question, 3 cases to consider-\n",
        "\n",
        "1. all entries in date column are valid\n",
        "2. Date column might have some invalid entries in them\n",
        "3. Date can be of different format throughout the column"
      ]
    },
    {
      "cell_type": "markdown",
      "metadata": {
        "id": "ho2wsgSCZ-oW",
        "colab_type": "text"
      },
      "source": [
        "All Valid Entries"
      ]
    },
    {
      "cell_type": "markdown",
      "metadata": {
        "id": "nKygOj-tcGx9",
        "colab_type": "text"
      },
      "source": [
        "Defining a function to find difference between these columns:\n",
        "This function detect columns by itself and define new columns as per requirement."
      ]
    },
    {
      "cell_type": "code",
      "metadata": {
        "id": "z4pzeHrzZmGB",
        "colab_type": "code",
        "colab": {}
      },
      "source": [
        "def diff_in_dates(input_df):\n",
        "    #finding all date_time columns\n",
        "    input_df_date_only=input_df.select_dtypes(include=['datetime64'])\n",
        "    #iterating over columns\n",
        "    for i in range(len(input_df_date_only.columns)-1):\n",
        "        for n in range(i+1,len(input_df_date_only.columns)):\n",
        "            #creating column with new name and taking difference in term of days which can be changed by changing alais \"D\"\n",
        "            # to \"W\" for week and \"Y\" for year\n",
        "            input_df['diff{}and{}'.format(i+1,n+1)]=(input_df.iloc[:, i]-input_df.iloc[:, n])/np.timedelta64(1,'D')\n",
        "            \n",
        "    \n"
      ],
      "execution_count": null,
      "outputs": []
    },
    {
      "cell_type": "code",
      "metadata": {
        "id": "s3Vi8bg_RmJi",
        "colab_type": "code",
        "colab": {
          "base_uri": "https://localhost:8080/",
          "height": 136
        },
        "outputId": "db6ad815-2226-4484-8811-1f700baee829"
      },
      "source": [
        "diff_in_dates(df)\n",
        "print(df)"
      ],
      "execution_count": null,
      "outputs": [
        {
          "output_type": "stream",
          "text": [
            "       date1      date2      date3       Val  diff1and2  diff1and3  diff2and3\n",
            "0 2020-01-01 2020-02-29 2020-12-31  0.722365      -59.0     -365.0     -306.0\n",
            "1 2020-01-02 2020-03-31 2021-12-31 -0.219948      -89.0     -729.0     -640.0\n",
            "2 2020-01-03 2020-04-30 2022-12-31 -1.624080     -118.0    -1093.0     -975.0\n",
            "3 2020-01-04 2020-05-31 2023-12-31 -0.927171     -148.0    -1457.0    -1309.0\n",
            "4 2020-01-05 2020-06-30 2024-12-31 -1.010072     -177.0    -1822.0    -1645.0\n",
            "5 2020-01-06 2020-07-31 2025-12-31  0.586287     -207.0    -2186.0    -1979.0\n"
          ],
          "name": "stdout"
        }
      ]
    },
    {
      "cell_type": "markdown",
      "metadata": {
        "id": "SAyElXW2eKgI",
        "colab_type": "text"
      },
      "source": [
        "2. Date can be of different format throughout the column"
      ]
    },
    {
      "cell_type": "code",
      "metadata": {
        "id": "ffNeZqYMWRcX",
        "colab_type": "code",
        "colab": {}
      },
      "source": [
        "from datetime import *\n",
        "date_4=pd.date_range('2020-2-1',periods=6,freq='M')\n",
        "date_4=date_4.strftime(\"%d %B, %Y\")\n",
        "date_4=pd.Series(date_4)"
      ],
      "execution_count": null,
      "outputs": []
    },
    {
      "cell_type": "code",
      "metadata": {
        "id": "dxpWs1g9gAQ7",
        "colab_type": "code",
        "colab": {}
      },
      "source": [
        "new_df=pd.DataFrame({'date1':date_1,'date2':date_2,'date3':date_3,'date4':date_4,'Val' : np.random.randn(len(date_1))})"
      ],
      "execution_count": null,
      "outputs": []
    },
    {
      "cell_type": "markdown",
      "metadata": {
        "id": "wK2iWF3IlniM",
        "colab_type": "text"
      },
      "source": [
        "Now we have a column with different format"
      ]
    },
    {
      "cell_type": "code",
      "metadata": {
        "id": "K3c0wnwTeZRJ",
        "colab_type": "code",
        "colab": {
          "base_uri": "https://localhost:8080/",
          "height": 235
        },
        "outputId": "a3564126-14b9-49d5-e5ee-03e20704b5ea"
      },
      "source": [
        "new_df"
      ],
      "execution_count": null,
      "outputs": [
        {
          "output_type": "execute_result",
          "data": {
            "text/html": [
              "<div>\n",
              "<style scoped>\n",
              "    .dataframe tbody tr th:only-of-type {\n",
              "        vertical-align: middle;\n",
              "    }\n",
              "\n",
              "    .dataframe tbody tr th {\n",
              "        vertical-align: top;\n",
              "    }\n",
              "\n",
              "    .dataframe thead th {\n",
              "        text-align: right;\n",
              "    }\n",
              "</style>\n",
              "<table border=\"1\" class=\"dataframe\">\n",
              "  <thead>\n",
              "    <tr style=\"text-align: right;\">\n",
              "      <th></th>\n",
              "      <th>date1</th>\n",
              "      <th>date2</th>\n",
              "      <th>date3</th>\n",
              "      <th>date4</th>\n",
              "      <th>Val</th>\n",
              "    </tr>\n",
              "  </thead>\n",
              "  <tbody>\n",
              "    <tr>\n",
              "      <th>0</th>\n",
              "      <td>2020-01-01</td>\n",
              "      <td>2020-02-29</td>\n",
              "      <td>2020-12-31</td>\n",
              "      <td>29 February, 2020</td>\n",
              "      <td>-1.034262</td>\n",
              "    </tr>\n",
              "    <tr>\n",
              "      <th>1</th>\n",
              "      <td>2020-01-02</td>\n",
              "      <td>2020-03-31</td>\n",
              "      <td>2021-12-31</td>\n",
              "      <td>31 March, 2020</td>\n",
              "      <td>1.222450</td>\n",
              "    </tr>\n",
              "    <tr>\n",
              "      <th>2</th>\n",
              "      <td>2020-01-03</td>\n",
              "      <td>2020-04-30</td>\n",
              "      <td>2022-12-31</td>\n",
              "      <td>30 April, 2020</td>\n",
              "      <td>1.549054</td>\n",
              "    </tr>\n",
              "    <tr>\n",
              "      <th>3</th>\n",
              "      <td>2020-01-04</td>\n",
              "      <td>2020-05-31</td>\n",
              "      <td>2023-12-31</td>\n",
              "      <td>31 May, 2020</td>\n",
              "      <td>0.438067</td>\n",
              "    </tr>\n",
              "    <tr>\n",
              "      <th>4</th>\n",
              "      <td>2020-01-05</td>\n",
              "      <td>2020-06-30</td>\n",
              "      <td>2024-12-31</td>\n",
              "      <td>30 June, 2020</td>\n",
              "      <td>-0.339537</td>\n",
              "    </tr>\n",
              "    <tr>\n",
              "      <th>5</th>\n",
              "      <td>2020-01-06</td>\n",
              "      <td>2020-07-31</td>\n",
              "      <td>2025-12-31</td>\n",
              "      <td>31 July, 2020</td>\n",
              "      <td>0.237703</td>\n",
              "    </tr>\n",
              "  </tbody>\n",
              "</table>\n",
              "</div>"
            ],
            "text/plain": [
              "       date1      date2      date3              date4       Val\n",
              "0 2020-01-01 2020-02-29 2020-12-31  29 February, 2020 -1.034262\n",
              "1 2020-01-02 2020-03-31 2021-12-31     31 March, 2020  1.222450\n",
              "2 2020-01-03 2020-04-30 2022-12-31     30 April, 2020  1.549054\n",
              "3 2020-01-04 2020-05-31 2023-12-31       31 May, 2020  0.438067\n",
              "4 2020-01-05 2020-06-30 2024-12-31      30 June, 2020 -0.339537\n",
              "5 2020-01-06 2020-07-31 2025-12-31      31 July, 2020  0.237703"
            ]
          },
          "metadata": {
            "tags": []
          },
          "execution_count": 20
        }
      ]
    },
    {
      "cell_type": "markdown",
      "metadata": {
        "id": "Xk9LJS8O2fij",
        "colab_type": "text"
      },
      "source": [
        "Converting column to standard format\n"
      ]
    },
    {
      "cell_type": "code",
      "metadata": {
        "id": "0pXn4QjKgrDu",
        "colab_type": "code",
        "colab": {}
      },
      "source": [
        "# convert the 'date4' column to datetime format \n",
        "#Passing infer_datetime_format=True can often-times speedup a parsing if its not an ISO8601 format exactly, but in a regular format.\n",
        "# if format=\"%m/%d/%y\" is not specified it will be converted to standard\n",
        "new_df['date4']=pd.to_datetime(new_df['date4'],format=\"%m/%d/%y\",infer_datetime_format=True)"
      ],
      "execution_count": null,
      "outputs": []
    },
    {
      "cell_type": "code",
      "metadata": {
        "id": "1BlJY2CJkR6b",
        "colab_type": "code",
        "colab": {
          "base_uri": "https://localhost:8080/",
          "height": 235
        },
        "outputId": "297596f6-7032-4c74-879b-b46c5f55b155"
      },
      "source": [
        "new_df"
      ],
      "execution_count": null,
      "outputs": [
        {
          "output_type": "execute_result",
          "data": {
            "text/html": [
              "<div>\n",
              "<style scoped>\n",
              "    .dataframe tbody tr th:only-of-type {\n",
              "        vertical-align: middle;\n",
              "    }\n",
              "\n",
              "    .dataframe tbody tr th {\n",
              "        vertical-align: top;\n",
              "    }\n",
              "\n",
              "    .dataframe thead th {\n",
              "        text-align: right;\n",
              "    }\n",
              "</style>\n",
              "<table border=\"1\" class=\"dataframe\">\n",
              "  <thead>\n",
              "    <tr style=\"text-align: right;\">\n",
              "      <th></th>\n",
              "      <th>date1</th>\n",
              "      <th>date2</th>\n",
              "      <th>date3</th>\n",
              "      <th>date4</th>\n",
              "      <th>Val</th>\n",
              "    </tr>\n",
              "  </thead>\n",
              "  <tbody>\n",
              "    <tr>\n",
              "      <th>0</th>\n",
              "      <td>2020-01-01</td>\n",
              "      <td>2020-02-29</td>\n",
              "      <td>2020-12-31</td>\n",
              "      <td>2020-02-29</td>\n",
              "      <td>-1.034262</td>\n",
              "    </tr>\n",
              "    <tr>\n",
              "      <th>1</th>\n",
              "      <td>2020-01-02</td>\n",
              "      <td>2020-03-31</td>\n",
              "      <td>2021-12-31</td>\n",
              "      <td>2020-03-31</td>\n",
              "      <td>1.222450</td>\n",
              "    </tr>\n",
              "    <tr>\n",
              "      <th>2</th>\n",
              "      <td>2020-01-03</td>\n",
              "      <td>2020-04-30</td>\n",
              "      <td>2022-12-31</td>\n",
              "      <td>2020-04-30</td>\n",
              "      <td>1.549054</td>\n",
              "    </tr>\n",
              "    <tr>\n",
              "      <th>3</th>\n",
              "      <td>2020-01-04</td>\n",
              "      <td>2020-05-31</td>\n",
              "      <td>2023-12-31</td>\n",
              "      <td>2020-05-31</td>\n",
              "      <td>0.438067</td>\n",
              "    </tr>\n",
              "    <tr>\n",
              "      <th>4</th>\n",
              "      <td>2020-01-05</td>\n",
              "      <td>2020-06-30</td>\n",
              "      <td>2024-12-31</td>\n",
              "      <td>2020-06-30</td>\n",
              "      <td>-0.339537</td>\n",
              "    </tr>\n",
              "    <tr>\n",
              "      <th>5</th>\n",
              "      <td>2020-01-06</td>\n",
              "      <td>2020-07-31</td>\n",
              "      <td>2025-12-31</td>\n",
              "      <td>2020-07-31</td>\n",
              "      <td>0.237703</td>\n",
              "    </tr>\n",
              "  </tbody>\n",
              "</table>\n",
              "</div>"
            ],
            "text/plain": [
              "       date1      date2      date3      date4       Val\n",
              "0 2020-01-01 2020-02-29 2020-12-31 2020-02-29 -1.034262\n",
              "1 2020-01-02 2020-03-31 2021-12-31 2020-03-31  1.222450\n",
              "2 2020-01-03 2020-04-30 2022-12-31 2020-04-30  1.549054\n",
              "3 2020-01-04 2020-05-31 2023-12-31 2020-05-31  0.438067\n",
              "4 2020-01-05 2020-06-30 2024-12-31 2020-06-30 -0.339537\n",
              "5 2020-01-06 2020-07-31 2025-12-31 2020-07-31  0.237703"
            ]
          },
          "metadata": {
            "tags": []
          },
          "execution_count": 22
        }
      ]
    },
    {
      "cell_type": "markdown",
      "metadata": {
        "id": "wsh0Ut7K45z3",
        "colab_type": "text"
      },
      "source": [
        "Now running the function from above"
      ]
    },
    {
      "cell_type": "code",
      "metadata": {
        "id": "yxIzSgOC3sss",
        "colab_type": "code",
        "colab": {
          "base_uri": "https://localhost:8080/",
          "height": 235
        },
        "outputId": "c9f8f537-1148-4e5b-e699-6c265b88b3a1"
      },
      "source": [
        "diff_in_dates(new_df)\n",
        "new_df"
      ],
      "execution_count": null,
      "outputs": [
        {
          "output_type": "execute_result",
          "data": {
            "text/html": [
              "<div>\n",
              "<style scoped>\n",
              "    .dataframe tbody tr th:only-of-type {\n",
              "        vertical-align: middle;\n",
              "    }\n",
              "\n",
              "    .dataframe tbody tr th {\n",
              "        vertical-align: top;\n",
              "    }\n",
              "\n",
              "    .dataframe thead th {\n",
              "        text-align: right;\n",
              "    }\n",
              "</style>\n",
              "<table border=\"1\" class=\"dataframe\">\n",
              "  <thead>\n",
              "    <tr style=\"text-align: right;\">\n",
              "      <th></th>\n",
              "      <th>date1</th>\n",
              "      <th>date2</th>\n",
              "      <th>date3</th>\n",
              "      <th>date4</th>\n",
              "      <th>Val</th>\n",
              "      <th>diff1and2</th>\n",
              "      <th>diff1and3</th>\n",
              "      <th>diff1and4</th>\n",
              "      <th>diff2and3</th>\n",
              "      <th>diff2and4</th>\n",
              "      <th>diff3and4</th>\n",
              "    </tr>\n",
              "  </thead>\n",
              "  <tbody>\n",
              "    <tr>\n",
              "      <th>0</th>\n",
              "      <td>2020-01-01</td>\n",
              "      <td>2020-02-29</td>\n",
              "      <td>2020-12-31</td>\n",
              "      <td>2020-02-29</td>\n",
              "      <td>-1.034262</td>\n",
              "      <td>-59.0</td>\n",
              "      <td>-365.0</td>\n",
              "      <td>-59.0</td>\n",
              "      <td>-306.0</td>\n",
              "      <td>0.0</td>\n",
              "      <td>306.0</td>\n",
              "    </tr>\n",
              "    <tr>\n",
              "      <th>1</th>\n",
              "      <td>2020-01-02</td>\n",
              "      <td>2020-03-31</td>\n",
              "      <td>2021-12-31</td>\n",
              "      <td>2020-03-31</td>\n",
              "      <td>1.222450</td>\n",
              "      <td>-89.0</td>\n",
              "      <td>-729.0</td>\n",
              "      <td>-89.0</td>\n",
              "      <td>-640.0</td>\n",
              "      <td>0.0</td>\n",
              "      <td>640.0</td>\n",
              "    </tr>\n",
              "    <tr>\n",
              "      <th>2</th>\n",
              "      <td>2020-01-03</td>\n",
              "      <td>2020-04-30</td>\n",
              "      <td>2022-12-31</td>\n",
              "      <td>2020-04-30</td>\n",
              "      <td>1.549054</td>\n",
              "      <td>-118.0</td>\n",
              "      <td>-1093.0</td>\n",
              "      <td>-118.0</td>\n",
              "      <td>-975.0</td>\n",
              "      <td>0.0</td>\n",
              "      <td>975.0</td>\n",
              "    </tr>\n",
              "    <tr>\n",
              "      <th>3</th>\n",
              "      <td>2020-01-04</td>\n",
              "      <td>2020-05-31</td>\n",
              "      <td>2023-12-31</td>\n",
              "      <td>2020-05-31</td>\n",
              "      <td>0.438067</td>\n",
              "      <td>-148.0</td>\n",
              "      <td>-1457.0</td>\n",
              "      <td>-148.0</td>\n",
              "      <td>-1309.0</td>\n",
              "      <td>0.0</td>\n",
              "      <td>1309.0</td>\n",
              "    </tr>\n",
              "    <tr>\n",
              "      <th>4</th>\n",
              "      <td>2020-01-05</td>\n",
              "      <td>2020-06-30</td>\n",
              "      <td>2024-12-31</td>\n",
              "      <td>2020-06-30</td>\n",
              "      <td>-0.339537</td>\n",
              "      <td>-177.0</td>\n",
              "      <td>-1822.0</td>\n",
              "      <td>-177.0</td>\n",
              "      <td>-1645.0</td>\n",
              "      <td>0.0</td>\n",
              "      <td>1645.0</td>\n",
              "    </tr>\n",
              "    <tr>\n",
              "      <th>5</th>\n",
              "      <td>2020-01-06</td>\n",
              "      <td>2020-07-31</td>\n",
              "      <td>2025-12-31</td>\n",
              "      <td>2020-07-31</td>\n",
              "      <td>0.237703</td>\n",
              "      <td>-207.0</td>\n",
              "      <td>-2186.0</td>\n",
              "      <td>-207.0</td>\n",
              "      <td>-1979.0</td>\n",
              "      <td>0.0</td>\n",
              "      <td>1979.0</td>\n",
              "    </tr>\n",
              "  </tbody>\n",
              "</table>\n",
              "</div>"
            ],
            "text/plain": [
              "       date1      date2      date3  ... diff2and3  diff2and4  diff3and4\n",
              "0 2020-01-01 2020-02-29 2020-12-31  ...    -306.0        0.0      306.0\n",
              "1 2020-01-02 2020-03-31 2021-12-31  ...    -640.0        0.0      640.0\n",
              "2 2020-01-03 2020-04-30 2022-12-31  ...    -975.0        0.0      975.0\n",
              "3 2020-01-04 2020-05-31 2023-12-31  ...   -1309.0        0.0     1309.0\n",
              "4 2020-01-05 2020-06-30 2024-12-31  ...   -1645.0        0.0     1645.0\n",
              "5 2020-01-06 2020-07-31 2025-12-31  ...   -1979.0        0.0     1979.0\n",
              "\n",
              "[6 rows x 11 columns]"
            ]
          },
          "metadata": {
            "tags": []
          },
          "execution_count": 23
        }
      ]
    },
    {
      "cell_type": "markdown",
      "metadata": {
        "id": "eUdO_QuUC0XO",
        "colab_type": "text"
      },
      "source": [
        "Type 3. Date column might have some invalid entries in them\n"
      ]
    },
    {
      "cell_type": "code",
      "metadata": {
        "id": "Vq3gzF6BDkZZ",
        "colab_type": "code",
        "colab": {}
      },
      "source": [
        "next_df=pd.DataFrame({'date1':date_1,'date2':date_2,'date3':date_3,'Val' : np.random.randn(len(date_1))})"
      ],
      "execution_count": null,
      "outputs": []
    },
    {
      "cell_type": "code",
      "metadata": {
        "id": "FURSBee3DmwS",
        "colab_type": "code",
        "colab": {
          "base_uri": "https://localhost:8080/",
          "height": 235
        },
        "outputId": "97b12d83-8d60-41f0-9f69-7e6c28a88a54"
      },
      "source": [
        "next_df"
      ],
      "execution_count": null,
      "outputs": [
        {
          "output_type": "execute_result",
          "data": {
            "text/html": [
              "<div>\n",
              "<style scoped>\n",
              "    .dataframe tbody tr th:only-of-type {\n",
              "        vertical-align: middle;\n",
              "    }\n",
              "\n",
              "    .dataframe tbody tr th {\n",
              "        vertical-align: top;\n",
              "    }\n",
              "\n",
              "    .dataframe thead th {\n",
              "        text-align: right;\n",
              "    }\n",
              "</style>\n",
              "<table border=\"1\" class=\"dataframe\">\n",
              "  <thead>\n",
              "    <tr style=\"text-align: right;\">\n",
              "      <th></th>\n",
              "      <th>date1</th>\n",
              "      <th>date2</th>\n",
              "      <th>date3</th>\n",
              "      <th>Val</th>\n",
              "    </tr>\n",
              "  </thead>\n",
              "  <tbody>\n",
              "    <tr>\n",
              "      <th>0</th>\n",
              "      <td>2020-01-01</td>\n",
              "      <td>2020-02-29</td>\n",
              "      <td>2020-12-31</td>\n",
              "      <td>0.159806</td>\n",
              "    </tr>\n",
              "    <tr>\n",
              "      <th>1</th>\n",
              "      <td>2020-01-02</td>\n",
              "      <td>2020-03-31</td>\n",
              "      <td>2021-12-31</td>\n",
              "      <td>-0.211161</td>\n",
              "    </tr>\n",
              "    <tr>\n",
              "      <th>2</th>\n",
              "      <td>2020-01-03</td>\n",
              "      <td>2020-04-30</td>\n",
              "      <td>2022-12-31</td>\n",
              "      <td>-2.442862</td>\n",
              "    </tr>\n",
              "    <tr>\n",
              "      <th>3</th>\n",
              "      <td>2020-01-04</td>\n",
              "      <td>2020-05-31</td>\n",
              "      <td>2023-12-31</td>\n",
              "      <td>0.502708</td>\n",
              "    </tr>\n",
              "    <tr>\n",
              "      <th>4</th>\n",
              "      <td>2020-01-05</td>\n",
              "      <td>2020-06-30</td>\n",
              "      <td>2024-12-31</td>\n",
              "      <td>-1.687591</td>\n",
              "    </tr>\n",
              "    <tr>\n",
              "      <th>5</th>\n",
              "      <td>2020-01-06</td>\n",
              "      <td>2020-07-31</td>\n",
              "      <td>2025-12-31</td>\n",
              "      <td>0.631874</td>\n",
              "    </tr>\n",
              "  </tbody>\n",
              "</table>\n",
              "</div>"
            ],
            "text/plain": [
              "       date1      date2      date3       Val\n",
              "0 2020-01-01 2020-02-29 2020-12-31  0.159806\n",
              "1 2020-01-02 2020-03-31 2021-12-31 -0.211161\n",
              "2 2020-01-03 2020-04-30 2022-12-31 -2.442862\n",
              "3 2020-01-04 2020-05-31 2023-12-31  0.502708\n",
              "4 2020-01-05 2020-06-30 2024-12-31 -1.687591\n",
              "5 2020-01-06 2020-07-31 2025-12-31  0.631874"
            ]
          },
          "metadata": {
            "tags": []
          },
          "execution_count": 25
        }
      ]
    },
    {
      "cell_type": "markdown",
      "metadata": {
        "id": "4Kzb_LMfEncQ",
        "colab_type": "text"
      },
      "source": [
        "inserting invalid entry to dataframe"
      ]
    },
    {
      "cell_type": "code",
      "metadata": {
        "id": "QiIquTJfDn60",
        "colab_type": "code",
        "colab": {}
      },
      "source": [
        "next_df.iloc[5,[2]]='abcd'"
      ],
      "execution_count": null,
      "outputs": []
    },
    {
      "cell_type": "code",
      "metadata": {
        "id": "DjcO_79LEegC",
        "colab_type": "code",
        "colab": {
          "base_uri": "https://localhost:8080/",
          "height": 235
        },
        "outputId": "4c31ddfd-9e2a-4cce-ae14-02200b6dcf37"
      },
      "source": [
        "next_df"
      ],
      "execution_count": null,
      "outputs": [
        {
          "output_type": "execute_result",
          "data": {
            "text/html": [
              "<div>\n",
              "<style scoped>\n",
              "    .dataframe tbody tr th:only-of-type {\n",
              "        vertical-align: middle;\n",
              "    }\n",
              "\n",
              "    .dataframe tbody tr th {\n",
              "        vertical-align: top;\n",
              "    }\n",
              "\n",
              "    .dataframe thead th {\n",
              "        text-align: right;\n",
              "    }\n",
              "</style>\n",
              "<table border=\"1\" class=\"dataframe\">\n",
              "  <thead>\n",
              "    <tr style=\"text-align: right;\">\n",
              "      <th></th>\n",
              "      <th>date1</th>\n",
              "      <th>date2</th>\n",
              "      <th>date3</th>\n",
              "      <th>Val</th>\n",
              "    </tr>\n",
              "  </thead>\n",
              "  <tbody>\n",
              "    <tr>\n",
              "      <th>0</th>\n",
              "      <td>2020-01-01</td>\n",
              "      <td>2020-02-29</td>\n",
              "      <td>2020-12-31 00:00:00</td>\n",
              "      <td>0.159806</td>\n",
              "    </tr>\n",
              "    <tr>\n",
              "      <th>1</th>\n",
              "      <td>2020-01-02</td>\n",
              "      <td>2020-03-31</td>\n",
              "      <td>2021-12-31 00:00:00</td>\n",
              "      <td>-0.211161</td>\n",
              "    </tr>\n",
              "    <tr>\n",
              "      <th>2</th>\n",
              "      <td>2020-01-03</td>\n",
              "      <td>2020-04-30</td>\n",
              "      <td>2022-12-31 00:00:00</td>\n",
              "      <td>-2.442862</td>\n",
              "    </tr>\n",
              "    <tr>\n",
              "      <th>3</th>\n",
              "      <td>2020-01-04</td>\n",
              "      <td>2020-05-31</td>\n",
              "      <td>2023-12-31 00:00:00</td>\n",
              "      <td>0.502708</td>\n",
              "    </tr>\n",
              "    <tr>\n",
              "      <th>4</th>\n",
              "      <td>2020-01-05</td>\n",
              "      <td>2020-06-30</td>\n",
              "      <td>2024-12-31 00:00:00</td>\n",
              "      <td>-1.687591</td>\n",
              "    </tr>\n",
              "    <tr>\n",
              "      <th>5</th>\n",
              "      <td>2020-01-06</td>\n",
              "      <td>2020-07-31</td>\n",
              "      <td>abcd</td>\n",
              "      <td>0.631874</td>\n",
              "    </tr>\n",
              "  </tbody>\n",
              "</table>\n",
              "</div>"
            ],
            "text/plain": [
              "       date1      date2                date3       Val\n",
              "0 2020-01-01 2020-02-29  2020-12-31 00:00:00  0.159806\n",
              "1 2020-01-02 2020-03-31  2021-12-31 00:00:00 -0.211161\n",
              "2 2020-01-03 2020-04-30  2022-12-31 00:00:00 -2.442862\n",
              "3 2020-01-04 2020-05-31  2023-12-31 00:00:00  0.502708\n",
              "4 2020-01-05 2020-06-30  2024-12-31 00:00:00 -1.687591\n",
              "5 2020-01-06 2020-07-31                 abcd  0.631874"
            ]
          },
          "metadata": {
            "tags": []
          },
          "execution_count": 27
        }
      ]
    },
    {
      "cell_type": "markdown",
      "metadata": {
        "id": "h9nGqbgLFShY",
        "colab_type": "text"
      },
      "source": [
        "Passing errors=’coerce’ will force an out-of-bounds date to NaT, in addition to forcing non-dates (or non-parseable dates) to NaT."
      ]
    },
    {
      "cell_type": "code",
      "metadata": {
        "id": "fF86JOVOEkg8",
        "colab_type": "code",
        "colab": {}
      },
      "source": [
        "next_df['date3']=pd.to_datetime(next_df['date3'],infer_datetime_format=True, errors='coerce')"
      ],
      "execution_count": null,
      "outputs": []
    },
    {
      "cell_type": "code",
      "metadata": {
        "id": "GOJ8n_3aE7kt",
        "colab_type": "code",
        "colab": {
          "base_uri": "https://localhost:8080/",
          "height": 235
        },
        "outputId": "f2e2acd2-9d29-4aba-8ff8-f1e66ff0d122"
      },
      "source": [
        "next_df"
      ],
      "execution_count": null,
      "outputs": [
        {
          "output_type": "execute_result",
          "data": {
            "text/html": [
              "<div>\n",
              "<style scoped>\n",
              "    .dataframe tbody tr th:only-of-type {\n",
              "        vertical-align: middle;\n",
              "    }\n",
              "\n",
              "    .dataframe tbody tr th {\n",
              "        vertical-align: top;\n",
              "    }\n",
              "\n",
              "    .dataframe thead th {\n",
              "        text-align: right;\n",
              "    }\n",
              "</style>\n",
              "<table border=\"1\" class=\"dataframe\">\n",
              "  <thead>\n",
              "    <tr style=\"text-align: right;\">\n",
              "      <th></th>\n",
              "      <th>date1</th>\n",
              "      <th>date2</th>\n",
              "      <th>date3</th>\n",
              "      <th>Val</th>\n",
              "    </tr>\n",
              "  </thead>\n",
              "  <tbody>\n",
              "    <tr>\n",
              "      <th>0</th>\n",
              "      <td>2020-01-01</td>\n",
              "      <td>2020-02-29</td>\n",
              "      <td>2020-12-31</td>\n",
              "      <td>0.159806</td>\n",
              "    </tr>\n",
              "    <tr>\n",
              "      <th>1</th>\n",
              "      <td>2020-01-02</td>\n",
              "      <td>2020-03-31</td>\n",
              "      <td>2021-12-31</td>\n",
              "      <td>-0.211161</td>\n",
              "    </tr>\n",
              "    <tr>\n",
              "      <th>2</th>\n",
              "      <td>2020-01-03</td>\n",
              "      <td>2020-04-30</td>\n",
              "      <td>2022-12-31</td>\n",
              "      <td>-2.442862</td>\n",
              "    </tr>\n",
              "    <tr>\n",
              "      <th>3</th>\n",
              "      <td>2020-01-04</td>\n",
              "      <td>2020-05-31</td>\n",
              "      <td>2023-12-31</td>\n",
              "      <td>0.502708</td>\n",
              "    </tr>\n",
              "    <tr>\n",
              "      <th>4</th>\n",
              "      <td>2020-01-05</td>\n",
              "      <td>2020-06-30</td>\n",
              "      <td>2024-12-31</td>\n",
              "      <td>-1.687591</td>\n",
              "    </tr>\n",
              "    <tr>\n",
              "      <th>5</th>\n",
              "      <td>2020-01-06</td>\n",
              "      <td>2020-07-31</td>\n",
              "      <td>NaT</td>\n",
              "      <td>0.631874</td>\n",
              "    </tr>\n",
              "  </tbody>\n",
              "</table>\n",
              "</div>"
            ],
            "text/plain": [
              "       date1      date2      date3       Val\n",
              "0 2020-01-01 2020-02-29 2020-12-31  0.159806\n",
              "1 2020-01-02 2020-03-31 2021-12-31 -0.211161\n",
              "2 2020-01-03 2020-04-30 2022-12-31 -2.442862\n",
              "3 2020-01-04 2020-05-31 2023-12-31  0.502708\n",
              "4 2020-01-05 2020-06-30 2024-12-31 -1.687591\n",
              "5 2020-01-06 2020-07-31        NaT  0.631874"
            ]
          },
          "metadata": {
            "tags": []
          },
          "execution_count": 29
        }
      ]
    },
    {
      "cell_type": "markdown",
      "metadata": {
        "id": "YFdMCQXcE_3E",
        "colab_type": "text"
      },
      "source": [
        "**The invalid Entry is converted to NaT**"
      ]
    },
    {
      "cell_type": "code",
      "metadata": {
        "id": "Zb2zCmLbE9zV",
        "colab_type": "code",
        "colab": {}
      },
      "source": [
        ""
      ],
      "execution_count": null,
      "outputs": []
    },
    {
      "cell_type": "markdown",
      "metadata": {
        "id": "V9jAwKc6Fj3Z",
        "colab_type": "text"
      },
      "source": [
        "Now running the function from above to find the difference"
      ]
    },
    {
      "cell_type": "code",
      "metadata": {
        "id": "4SK48DpfFjBK",
        "colab_type": "code",
        "colab": {
          "base_uri": "https://localhost:8080/",
          "height": 235
        },
        "outputId": "69b4a0df-e0a2-408f-99d3-cc40f0119b90"
      },
      "source": [
        "# function to find difference between date columns\n",
        "diff_in_dates(next_df)\n",
        "next_df"
      ],
      "execution_count": null,
      "outputs": [
        {
          "output_type": "execute_result",
          "data": {
            "text/html": [
              "<div>\n",
              "<style scoped>\n",
              "    .dataframe tbody tr th:only-of-type {\n",
              "        vertical-align: middle;\n",
              "    }\n",
              "\n",
              "    .dataframe tbody tr th {\n",
              "        vertical-align: top;\n",
              "    }\n",
              "\n",
              "    .dataframe thead th {\n",
              "        text-align: right;\n",
              "    }\n",
              "</style>\n",
              "<table border=\"1\" class=\"dataframe\">\n",
              "  <thead>\n",
              "    <tr style=\"text-align: right;\">\n",
              "      <th></th>\n",
              "      <th>date1</th>\n",
              "      <th>date2</th>\n",
              "      <th>date3</th>\n",
              "      <th>Val</th>\n",
              "      <th>diff1and2</th>\n",
              "      <th>diff1and3</th>\n",
              "      <th>diff2and3</th>\n",
              "    </tr>\n",
              "  </thead>\n",
              "  <tbody>\n",
              "    <tr>\n",
              "      <th>0</th>\n",
              "      <td>2020-01-01</td>\n",
              "      <td>2020-02-29</td>\n",
              "      <td>2020-12-31</td>\n",
              "      <td>0.159806</td>\n",
              "      <td>-59.0</td>\n",
              "      <td>-365.0</td>\n",
              "      <td>-306.0</td>\n",
              "    </tr>\n",
              "    <tr>\n",
              "      <th>1</th>\n",
              "      <td>2020-01-02</td>\n",
              "      <td>2020-03-31</td>\n",
              "      <td>2021-12-31</td>\n",
              "      <td>-0.211161</td>\n",
              "      <td>-89.0</td>\n",
              "      <td>-729.0</td>\n",
              "      <td>-640.0</td>\n",
              "    </tr>\n",
              "    <tr>\n",
              "      <th>2</th>\n",
              "      <td>2020-01-03</td>\n",
              "      <td>2020-04-30</td>\n",
              "      <td>2022-12-31</td>\n",
              "      <td>-2.442862</td>\n",
              "      <td>-118.0</td>\n",
              "      <td>-1093.0</td>\n",
              "      <td>-975.0</td>\n",
              "    </tr>\n",
              "    <tr>\n",
              "      <th>3</th>\n",
              "      <td>2020-01-04</td>\n",
              "      <td>2020-05-31</td>\n",
              "      <td>2023-12-31</td>\n",
              "      <td>0.502708</td>\n",
              "      <td>-148.0</td>\n",
              "      <td>-1457.0</td>\n",
              "      <td>-1309.0</td>\n",
              "    </tr>\n",
              "    <tr>\n",
              "      <th>4</th>\n",
              "      <td>2020-01-05</td>\n",
              "      <td>2020-06-30</td>\n",
              "      <td>2024-12-31</td>\n",
              "      <td>-1.687591</td>\n",
              "      <td>-177.0</td>\n",
              "      <td>-1822.0</td>\n",
              "      <td>-1645.0</td>\n",
              "    </tr>\n",
              "    <tr>\n",
              "      <th>5</th>\n",
              "      <td>2020-01-06</td>\n",
              "      <td>2020-07-31</td>\n",
              "      <td>NaT</td>\n",
              "      <td>0.631874</td>\n",
              "      <td>-207.0</td>\n",
              "      <td>NaN</td>\n",
              "      <td>NaN</td>\n",
              "    </tr>\n",
              "  </tbody>\n",
              "</table>\n",
              "</div>"
            ],
            "text/plain": [
              "       date1      date2      date3       Val  diff1and2  diff1and3  diff2and3\n",
              "0 2020-01-01 2020-02-29 2020-12-31  0.159806      -59.0     -365.0     -306.0\n",
              "1 2020-01-02 2020-03-31 2021-12-31 -0.211161      -89.0     -729.0     -640.0\n",
              "2 2020-01-03 2020-04-30 2022-12-31 -2.442862     -118.0    -1093.0     -975.0\n",
              "3 2020-01-04 2020-05-31 2023-12-31  0.502708     -148.0    -1457.0    -1309.0\n",
              "4 2020-01-05 2020-06-30 2024-12-31 -1.687591     -177.0    -1822.0    -1645.0\n",
              "5 2020-01-06 2020-07-31        NaT  0.631874     -207.0        NaN        NaN"
            ]
          },
          "metadata": {
            "tags": []
          },
          "execution_count": 30
        }
      ]
    },
    {
      "cell_type": "code",
      "metadata": {
        "id": "ZLDAzEr6F0i-",
        "colab_type": "code",
        "colab": {}
      },
      "source": [
        ""
      ],
      "execution_count": null,
      "outputs": []
    },
    {
      "cell_type": "markdown",
      "metadata": {
        "id": "Gg1vSeOROfhN",
        "colab_type": "text"
      },
      "source": [
        "**Q2.**Write a function in python that take dataframe as input and drop columns having Pearson correlation more than 0.85\n",
        "\n"
      ]
    },
    {
      "cell_type": "code",
      "metadata": {
        "id": "rDzYtzREF0Xj",
        "colab_type": "code",
        "colab": {}
      },
      "source": [
        "# Importing basic libraries\n",
        "from numpy.random import randn\n",
        "from numpy.random import seed\n",
        "from scipy.stats import pearsonr\n"
      ],
      "execution_count": null,
      "outputs": []
    },
    {
      "cell_type": "code",
      "metadata": {
        "id": "PCS-D5qQQHvt",
        "colab_type": "code",
        "colab": {}
      },
      "source": [
        "seed(1)\n",
        "# preparing data to find correlation b/w\n",
        "data1 = 20 * randn(1000) + 100\n",
        "data2 = data1 + (10 * randn(1000) + 50)\n",
        "data3 = data2+(10 * 2*randn(1000) + 50) - data1\n",
        "data4=data2+data3-data1\n"
      ],
      "execution_count": null,
      "outputs": []
    },
    {
      "cell_type": "markdown",
      "metadata": {
        "id": "GjSzxnwKWElV",
        "colab_type": "text"
      },
      "source": [
        "Creating a DataFrame with random values:"
      ]
    },
    {
      "cell_type": "code",
      "metadata": {
        "id": "dBNC2pKiPX_F",
        "colab_type": "code",
        "colab": {}
      },
      "source": [
        "pcdf=pd.DataFrame({'data1':data1,'data2':data2,'data3':data3,'data4':data4})"
      ],
      "execution_count": null,
      "outputs": []
    },
    {
      "cell_type": "markdown",
      "metadata": {
        "id": "8woabNdgWQ5-",
        "colab_type": "text"
      },
      "source": [
        "Function to find Pearson correlation bw any two columns of dataframe and then dropping the columns if Pearson correlation is more than 0.85"
      ]
    },
    {
      "cell_type": "code",
      "metadata": {
        "id": "3E6U7aqxQlGD",
        "colab_type": "code",
        "colab": {
          "base_uri": "https://localhost:8080/",
          "height": 317
        },
        "outputId": "0cd5788c-0826-451d-82cf-70a102e49341"
      },
      "source": [
        "def pc(dataset, threshold):\n",
        "    # for loop to take 2 clumn at a time\n",
        "    for i in range(len(dataset.columns)-1):\n",
        "        for n in range(i+1,len(dataset.columns)):\n",
        "            corr, _ = pearsonr(dataset.iloc[:, i], dataset.iloc[:, n])\n",
        "            if corr > 0.85:\n",
        "                dataset.drop[dataset.columns[i]]\n",
        "                # move to next column if one column is dropped \n",
        "                break\n",
        "    \n",
        "\n",
        "    print(dataset)\n",
        "pc(pcdf,0.85)"
      ],
      "execution_count": null,
      "outputs": [
        {
          "output_type": "error",
          "ename": "TypeError",
          "evalue": "ignored",
          "traceback": [
            "\u001b[0;31m---------------------------------------------------------------------------\u001b[0m",
            "\u001b[0;31mTypeError\u001b[0m                                 Traceback (most recent call last)",
            "\u001b[0;32m<ipython-input-34-cb3d13466356>\u001b[0m in \u001b[0;36m<module>\u001b[0;34m()\u001b[0m\n\u001b[1;32m     11\u001b[0m \u001b[0;34m\u001b[0m\u001b[0m\n\u001b[1;32m     12\u001b[0m     \u001b[0mprint\u001b[0m\u001b[0;34m(\u001b[0m\u001b[0mdataset\u001b[0m\u001b[0;34m)\u001b[0m\u001b[0;34m\u001b[0m\u001b[0;34m\u001b[0m\u001b[0m\n\u001b[0;32m---> 13\u001b[0;31m \u001b[0mpc\u001b[0m\u001b[0;34m(\u001b[0m\u001b[0mpcdf\u001b[0m\u001b[0;34m,\u001b[0m\u001b[0;36m0.85\u001b[0m\u001b[0;34m)\u001b[0m\u001b[0;34m\u001b[0m\u001b[0;34m\u001b[0m\u001b[0m\n\u001b[0m",
            "\u001b[0;32m<ipython-input-34-cb3d13466356>\u001b[0m in \u001b[0;36mpc\u001b[0;34m(dataset, threshold)\u001b[0m\n\u001b[1;32m      5\u001b[0m             \u001b[0mcorr\u001b[0m\u001b[0;34m,\u001b[0m \u001b[0m_\u001b[0m \u001b[0;34m=\u001b[0m \u001b[0mpearsonr\u001b[0m\u001b[0;34m(\u001b[0m\u001b[0mdataset\u001b[0m\u001b[0;34m.\u001b[0m\u001b[0miloc\u001b[0m\u001b[0;34m[\u001b[0m\u001b[0;34m:\u001b[0m\u001b[0;34m,\u001b[0m \u001b[0mi\u001b[0m\u001b[0;34m]\u001b[0m\u001b[0;34m,\u001b[0m \u001b[0mdataset\u001b[0m\u001b[0;34m.\u001b[0m\u001b[0miloc\u001b[0m\u001b[0;34m[\u001b[0m\u001b[0;34m:\u001b[0m\u001b[0;34m,\u001b[0m \u001b[0mn\u001b[0m\u001b[0;34m]\u001b[0m\u001b[0;34m)\u001b[0m\u001b[0;34m\u001b[0m\u001b[0;34m\u001b[0m\u001b[0m\n\u001b[1;32m      6\u001b[0m             \u001b[0;32mif\u001b[0m \u001b[0mcorr\u001b[0m \u001b[0;34m>\u001b[0m \u001b[0;36m0.85\u001b[0m\u001b[0;34m:\u001b[0m\u001b[0;34m\u001b[0m\u001b[0;34m\u001b[0m\u001b[0m\n\u001b[0;32m----> 7\u001b[0;31m                 \u001b[0mdataset\u001b[0m\u001b[0;34m.\u001b[0m\u001b[0mdrop\u001b[0m\u001b[0;34m[\u001b[0m\u001b[0mdataset\u001b[0m\u001b[0;34m.\u001b[0m\u001b[0mcolumns\u001b[0m\u001b[0;34m[\u001b[0m\u001b[0mi\u001b[0m\u001b[0;34m]\u001b[0m\u001b[0;34m]\u001b[0m\u001b[0;34m\u001b[0m\u001b[0;34m\u001b[0m\u001b[0m\n\u001b[0m\u001b[1;32m      8\u001b[0m                 \u001b[0;31m# move to next column if one column is dropped\u001b[0m\u001b[0;34m\u001b[0m\u001b[0;34m\u001b[0m\u001b[0;34m\u001b[0m\u001b[0m\n\u001b[1;32m      9\u001b[0m                 \u001b[0;32mbreak\u001b[0m\u001b[0;34m\u001b[0m\u001b[0;34m\u001b[0m\u001b[0m\n",
            "\u001b[0;31mTypeError\u001b[0m: 'method' object is not subscriptable"
          ]
        }
      ]
    },
    {
      "cell_type": "code",
      "metadata": {
        "id": "1LhLbBuLd8tp",
        "colab_type": "code",
        "colab": {}
      },
      "source": [
        ""
      ],
      "execution_count": null,
      "outputs": []
    }
  ]
}